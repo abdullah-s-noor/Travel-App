{
 "cells": [
  {
   "cell_type": "markdown",
   "metadata": {
    "editable": true
   },
   "source": [
    "# Exercise: Service Workers\n",
    "\n",
    "Now, you'll add service workers so your app can still appear if the server connection is momentarily severed. \n",
    "\n",
    "`cd` into `webpack-sass` to start."
   ]
  },
  {
   "cell_type": "markdown",
   "metadata": {
    "editable": true
   },
   "source": [
    "- Install the workbox plugin"
   ]
  },
  {
   "cell_type": "markdown",
   "metadata": {
    "editable": true,
    "toggleable": true,
    "ulab": {
     "buttons": {
      "ulab-button-toggle-08a1ba90": {
       "style": "primary"
      }
     }
    }
   },
   "source": [
    "`npm install workbox-webpack-plugin`"
   ]
  },
  {
   "cell_type": "markdown",
   "metadata": {
    "editable": true,
    "toggleable": false,
    "ulab": {
     "buttons": {
      "ulab-button-toggle-08a1ba90": {
       "style": "primary"
      }
     }
    }
   },
   "source": [
    "- Add a service worker script to `index.html`"
   ]
  },
  {
   "cell_type": "markdown",
   "metadata": {
    "editable": true,
    "toggleable": true,
    "ulab": {
     "buttons": {
      "ulab-button-toggle-08a1ba90": {
       "style": "primary"
      }
     }
    }
   },
   "source": [
    "At the bottom of `index.html` (after the footer, but still in the body), add the following script:\n",
    "\n",
    "```\n",
    "<script>\n",
    "    // Check that service workers are supported\n",
    "    if ('serviceWorker' in navigator) {\n",
    "        // Use the window load event to keep the page load performant\n",
    "        window.addEventListener('load', () => {\n",
    "            navigator.serviceWorker.register('/service-worker.js');\n",
    "        });\n",
    "    }\n",
    "</script>\n",
    "```"
   ]
  },
  {
   "cell_type": "markdown",
   "metadata": {
    "editable": true,
    "toggleable": false,
    "ulab": {
     "buttons": {
      "ulab-button-toggle-08a1ba90": {
       "style": "primary"
      }
     }
    }
   },
   "source": [
    "- Update `webpack.prod.js` to include the workbox plug-in"
   ]
  },
  {
   "cell_type": "markdown",
   "metadata": {
    "editable": true,
    "toggleable": true,
    "ulab": {
     "buttons": {
      "ulab-button-toggle-08a1ba90": {
       "style": "primary"
      }
     }
    }
   },
   "source": [
    "At the top of the file, add:\n",
    "\n",
    "```\n",
    "const WorkboxPlugin = require('workbox-webpack-plugin')\n",
    "```\n",
    "\n",
    "Make sure `module.exports` includes:\n",
    "\n",
    "```\n",
    "    output: {\n",
    "        libraryTarget: 'var',\n",
    "        library: 'Client'\n",
    "    },\n",
    "```\n",
    "\n",
    "Then add the `plugin` near the bottom.\n",
    "\n",
    "```\n",
    "new WorkboxPlugin.GenerateSW()\n",
    "```"
   ]
  },
  {
   "cell_type": "markdown",
   "metadata": {
    "editable": true,
    "toggleable": false,
    "ulab": {
     "buttons": {
      "ulab-button-toggle-08a1ba90": {
       "style": "primary"
      }
     }
    }
   },
   "source": [
    "- Run your server (production version), refresh the page a few times"
   ]
  },
  {
   "cell_type": "markdown",
   "metadata": {
    "editable": true,
    "toggleable": false,
    "ulab": {
     "buttons": {
      "ulab-button-toggle-08a1ba90": {
       "style": "primary"
      }
     }
    }
   },
   "source": [
    "- Turn off the server in your terminal (use Control+C this time instead of \"Close App\" below, or else your app window will close)."
   ]
  },
  {
   "cell_type": "markdown",
   "metadata": {
    "editable": true,
    "toggleable": false,
    "ulab": {
     "buttons": {
      "ulab-button-toggle-08a1ba90": {
       "style": "primary"
      }
     }
    }
   },
   "source": [
    "- Go back to your web page and refresh"
   ]
  },
  {
   "cell_type": "markdown",
   "metadata": {
    "editable": true,
    "toggleable": false,
    "ulab": {
     "buttons": {
      "ulab-button-toggle-08a1ba90": {
       "style": "primary"
      }
     }
    }
   },
   "source": [
    "- You’ve been successful if you still see your webpage!"
   ]
  },
  {
   "cell_type": "markdown",
   "metadata": {
    "editable": true,
    "ulab": {
     "buttons": {
      "ulab-button-c9b730e4": {
       "bashCommand": "",
       "filesToOpen": [],
       "isPreviewButton": true,
       "runInBackground": false,
       "style": "primary",
       "text": "OPEN APP",
       "toggleOffText": "HIDE SOLUTION",
       "toggleOnText": "SHOW SOLUTION"
      },
      "ulab-button-ddccc1a0": {
       "bashCommand": "\\u0003",
       "filesToOpen": [],
       "isPreviewButton": false,
       "runInBackground": false,
       "style": "primary",
       "text": "CLOSE APP",
       "toggleOffText": "HIDE SOLUTION",
       "toggleOnText": "SHOW SOLUTION"
      }
     }
    }
   },
   "source": [
    "Need to try viewing the app? Use these to view or stop the app.\n",
    "\n",
    "<button id=\"ulab-button-c9b730e4\" class=\"ulab-btn--primary\"></button>\n",
    "<button id=\"ulab-button-ddccc1a0\" class=\"ulab-btn--primary\"></button>"
   ]
  }
 ],
 "metadata": {
  "kernelspec": {
   "display_name": "Python 3",
   "language": "python",
   "name": "python3"
  },
  "language_info": {
   "codemirror_mode": {
    "name": "ipython",
    "version": 3
   },
   "file_extension": ".py",
   "mimetype": "text/x-python",
   "name": "python",
   "nbconvert_exporter": "python",
   "pygments_lexer": "ipython3",
   "version": "3.6.3"
  },
  "ulab_nb_type": "guided"
 },
 "nbformat": 4,
 "nbformat_minor": 4
}
